{
  "cells": [
    {
      "cell_type": "markdown",
      "metadata": {
        "id": "BgVGdR_iUIzZ"
      },
      "source": [
        "# **Predictive Modeling on Country-Level Indicators Using Machine Learning**\n",
        "\n",
        "\n",
        "\n",
        "**Author**: [Your Name]  \n",
        "**Course**: [Course Title]  \n",
        "**Date**: [Submission Date]\n",
        "\n",
        "\n"
      ]
    },
    {
      "cell_type": "markdown",
      "metadata": {
        "id": "k-w0MToZt3wB"
      },
      "source": [
        "## Introduction\n",
        "\n",
        "This notebook uses World Bank data to classify countries based on infant mortality rates.  The classification takes into account primary school enrollment, health expenditure, and GDP per capita.  The purpose is to investigate how well each model identifies patterns in socioeconomic indices related to infant mortality, hence providing insights into country-level development and well-being.\n",
        "\n",
        "This notebook demonstrates the practical use of a custom machine learning package containing three models:\n",
        "- Logistic Regression\n",
        "- K-Nearest Neighbors\n",
        "- Random Forest\n",
        "\n",
        "It uses real data from the World Bank to classify countries based on infant mortality rates."
      ]
    },
    {
      "cell_type": "markdown",
      "metadata": {
        "id": "U77XRhOxKJz0"
      },
      "source": [
        "##  Install and Import Required Packages\n",
        "\n"
      ]
    },
    {
      "cell_type": "code",
      "execution_count": 3,
      "metadata": {
        "colab": {
          "base_uri": "https://localhost:8080/"
        },
        "id": "uIraVwO9KH4o",
        "outputId": "9a483e82-7ad5-4551-a757-3f0ec2b50679"
      },
      "outputs": [
        {
          "name": "stdout",
          "output_type": "stream",
          "text": [
            "Collecting wbgapi\n",
            "  Downloading wbgapi-1.0.12-py3-none-any.whl.metadata (13 kB)\n",
            "Requirement already satisfied: scikit-learn in /usr/local/lib/python3.11/dist-packages (1.6.1)\n",
            "Requirement already satisfied: matplotlib in /usr/local/lib/python3.11/dist-packages (3.10.0)\n",
            "Requirement already satisfied: seaborn in /usr/local/lib/python3.11/dist-packages (0.13.2)\n",
            "Requirement already satisfied: pandas in /usr/local/lib/python3.11/dist-packages (2.2.2)\n",
            "Requirement already satisfied: requests in /usr/local/lib/python3.11/dist-packages (from wbgapi) (2.32.3)\n",
            "Requirement already satisfied: PyYAML in /usr/local/lib/python3.11/dist-packages (from wbgapi) (6.0.2)\n",
            "Requirement already satisfied: tabulate in /usr/local/lib/python3.11/dist-packages (from wbgapi) (0.9.0)\n",
            "Requirement already satisfied: numpy>=1.19.5 in /usr/local/lib/python3.11/dist-packages (from scikit-learn) (2.0.2)\n",
            "Requirement already satisfied: scipy>=1.6.0 in /usr/local/lib/python3.11/dist-packages (from scikit-learn) (1.14.1)\n",
            "Requirement already satisfied: joblib>=1.2.0 in /usr/local/lib/python3.11/dist-packages (from scikit-learn) (1.4.2)\n",
            "Requirement already satisfied: threadpoolctl>=3.1.0 in /usr/local/lib/python3.11/dist-packages (from scikit-learn) (3.6.0)\n",
            "Requirement already satisfied: contourpy>=1.0.1 in /usr/local/lib/python3.11/dist-packages (from matplotlib) (1.3.1)\n",
            "Requirement already satisfied: cycler>=0.10 in /usr/local/lib/python3.11/dist-packages (from matplotlib) (0.12.1)\n",
            "Requirement already satisfied: fonttools>=4.22.0 in /usr/local/lib/python3.11/dist-packages (from matplotlib) (4.56.0)\n",
            "Requirement already satisfied: kiwisolver>=1.3.1 in /usr/local/lib/python3.11/dist-packages (from matplotlib) (1.4.8)\n",
            "Requirement already satisfied: packaging>=20.0 in /usr/local/lib/python3.11/dist-packages (from matplotlib) (24.2)\n",
            "Requirement already satisfied: pillow>=8 in /usr/local/lib/python3.11/dist-packages (from matplotlib) (11.1.0)\n",
            "Requirement already satisfied: pyparsing>=2.3.1 in /usr/local/lib/python3.11/dist-packages (from matplotlib) (3.2.3)\n",
            "Requirement already satisfied: python-dateutil>=2.7 in /usr/local/lib/python3.11/dist-packages (from matplotlib) (2.8.2)\n",
            "Requirement already satisfied: pytz>=2020.1 in /usr/local/lib/python3.11/dist-packages (from pandas) (2025.2)\n",
            "Requirement already satisfied: tzdata>=2022.7 in /usr/local/lib/python3.11/dist-packages (from pandas) (2025.2)\n",
            "Requirement already satisfied: six>=1.5 in /usr/local/lib/python3.11/dist-packages (from python-dateutil>=2.7->matplotlib) (1.17.0)\n",
            "Requirement already satisfied: charset-normalizer<4,>=2 in /usr/local/lib/python3.11/dist-packages (from requests->wbgapi) (3.4.1)\n",
            "Requirement already satisfied: idna<4,>=2.5 in /usr/local/lib/python3.11/dist-packages (from requests->wbgapi) (3.10)\n",
            "Requirement already satisfied: urllib3<3,>=1.21.1 in /usr/local/lib/python3.11/dist-packages (from requests->wbgapi) (2.3.0)\n",
            "Requirement already satisfied: certifi>=2017.4.17 in /usr/local/lib/python3.11/dist-packages (from requests->wbgapi) (2025.1.31)\n",
            "Downloading wbgapi-1.0.12-py3-none-any.whl (36 kB)\n",
            "Installing collected packages: wbgapi\n",
            "Successfully installed wbgapi-1.0.12\n"
          ]
        }
      ],
      "source": [
        "!pip install wbgapi scikit-learn matplotlib seaborn pandas\n"
      ]
    },
    {
      "cell_type": "code",
      "execution_count": 1,
      "metadata": {
        "id": "QivejqYuKZD0"
      },
      "outputs": [],
      "source": [
        "import wbgapi as wb\n",
        "import pandas as pd\n",
        "import numpy as np\n",
        "import seaborn as sns\n",
        "import matplotlib.pyplot as plt\n",
        "from sklearn.metrics import accuracy_score\n",
        "\n",
        "\n",
        "from sklearn.model_selection import train_test_split\n",
        "from sklearn.preprocessing import LabelEncoder, StandardScaler\n",
        "from sklearn.linear_model import LogisticRegression\n",
        "from sklearn.neighbors import KNeighborsClassifier\n",
        "from sklearn.ensemble import RandomForestClassifier\n",
        "from sklearn.metrics import classification_report, confusion_matrix\n",
        "from sklearn.preprocessing import StandardScaler\n",
        "from ml_package.ml_models import CustomLogisticRegression, CustomKNNClassifier, CustomRandomForestClassifier\n"
      ]
    },
    {
      "cell_type": "markdown",
      "metadata": {
        "id": "d0HDgCDkKe2n"
      },
      "source": [
        "## Load and Prepare Data"
      ]
    },
    {
      "cell_type": "markdown",
      "metadata": {
        "id": "DmYuhXnkvBdQ"
      },
      "source": [
        "The data used in this notebook is sourced from the **World Bank**, a global agency that provides significant economic and development data to countries around the world.  \n",
        " We have chosen crucial metrics such as **GDP per capita**, **health expenditure**, **school enrollment**, and **infant mortality rate**.  \n",
        " These indicators assist us in understanding and comparing the **socioeconomic conditions** of various countries for our classification work.\n"
      ]
    },
    {
      "cell_type": "code",
      "execution_count": 2,
      "metadata": {
        "colab": {
          "base_uri": "https://localhost:8080/",
          "height": 206
        },
        "id": "wadMMJPzKhR2",
        "outputId": "2719495c-5594-45bd-aa38-b22e87b324f6"
      },
      "outputs": [
        {
          "name": "stderr",
          "output_type": "stream",
          "text": [
            "C:\\Users\\Harry\\AppData\\Local\\Packages\\PythonSoftwareFoundation.Python.3.10_qbz5n2kfra8p0\\LocalCache\\local-packages\\Python310\\site-packages\\wbgapi\\data.py:349: FutureWarning: Setting an item of incompatible dtype is deprecated and will raise in a future error of pandas. Value 'Zimbabwe' has dtype incompatible with float64, please explicitly cast to a compatible dtype first.\n",
            "  df2.loc[index_key, concepts[i]['value']] = row[i]['value']\n",
            "C:\\Users\\Harry\\AppData\\Local\\Packages\\PythonSoftwareFoundation.Python.3.10_qbz5n2kfra8p0\\LocalCache\\local-packages\\Python310\\site-packages\\wbgapi\\data.py:349: FutureWarning: Setting an item of incompatible dtype is deprecated and will raise in a future error of pandas. Value 'Zimbabwe' has dtype incompatible with float64, please explicitly cast to a compatible dtype first.\n",
            "  df2.loc[index_key, concepts[i]['value']] = row[i]['value']\n"
          ]
        },
        {
          "data": {
            "text/html": [
              "<div>\n",
              "<style scoped>\n",
              "    .dataframe tbody tr th:only-of-type {\n",
              "        vertical-align: middle;\n",
              "    }\n",
              "\n",
              "    .dataframe tbody tr th {\n",
              "        vertical-align: top;\n",
              "    }\n",
              "\n",
              "    .dataframe thead th {\n",
              "        text-align: right;\n",
              "    }\n",
              "</style>\n",
              "<table border=\"1\" class=\"dataframe\">\n",
              "  <thead>\n",
              "    <tr style=\"text-align: right;\">\n",
              "      <th></th>\n",
              "      <th>economy</th>\n",
              "      <th>Primary School Enrollment (%)</th>\n",
              "      <th>Health Expenditure (% of GDP)</th>\n",
              "      <th>Infant Mortality Rate</th>\n",
              "      <th>GDP per Capita</th>\n",
              "    </tr>\n",
              "  </thead>\n",
              "  <tbody>\n",
              "    <tr>\n",
              "      <th>0</th>\n",
              "      <td>ZWE</td>\n",
              "      <td>97.384162</td>\n",
              "      <td>2.954401</td>\n",
              "      <td>36.4</td>\n",
              "      <td>1730.413489</td>\n",
              "    </tr>\n",
              "    <tr>\n",
              "      <th>1</th>\n",
              "      <td>ZMB</td>\n",
              "      <td>94.777797</td>\n",
              "      <td>6.316198</td>\n",
              "      <td>40.9</td>\n",
              "      <td>951.644317</td>\n",
              "    </tr>\n",
              "    <tr>\n",
              "      <th>5</th>\n",
              "      <td>VNM</td>\n",
              "      <td>119.024054</td>\n",
              "      <td>4.300619</td>\n",
              "      <td>16.7</td>\n",
              "      <td>3534.039535</td>\n",
              "    </tr>\n",
              "    <tr>\n",
              "      <th>7</th>\n",
              "      <td>VUT</td>\n",
              "      <td>115.437370</td>\n",
              "      <td>3.994824</td>\n",
              "      <td>16.4</td>\n",
              "      <td>3042.987116</td>\n",
              "    </tr>\n",
              "    <tr>\n",
              "      <th>8</th>\n",
              "      <td>UZB</td>\n",
              "      <td>98.615311</td>\n",
              "      <td>6.750000</td>\n",
              "      <td>13.2</td>\n",
              "      <td>1978.280519</td>\n",
              "    </tr>\n",
              "  </tbody>\n",
              "</table>\n",
              "</div>"
            ],
            "text/plain": [
              "  economy  Primary School Enrollment (%)  Health Expenditure (% of GDP)  \\\n",
              "0     ZWE                      97.384162                       2.954401   \n",
              "1     ZMB                      94.777797                       6.316198   \n",
              "5     VNM                     119.024054                       4.300619   \n",
              "7     VUT                     115.437370                       3.994824   \n",
              "8     UZB                      98.615311                       6.750000   \n",
              "\n",
              "   Infant Mortality Rate  GDP per Capita  \n",
              "0                   36.4     1730.413489  \n",
              "1                   40.9      951.644317  \n",
              "5                   16.7     3534.039535  \n",
              "7                   16.4     3042.987116  \n",
              "8                   13.2     1978.280519  "
            ]
          },
          "execution_count": 2,
          "metadata": {},
          "output_type": "execute_result"
        }
      ],
      "source": [
        "# Fetch data\n",
        "indicators = {\n",
        "    'SE.PRM.ENRR': 'Primary School Enrollment (%)',\n",
        "    'SH.XPD.CHEX.GD.ZS': 'Health Expenditure (% of GDP)',\n",
        "    'SP.DYN.IMRT.IN': 'Infant Mortality Rate',\n",
        "    'NY.GDP.PCAP.CD': 'GDP per Capita'\n",
        "}\n",
        "\n",
        "df = wb.data.DataFrame(indicators, time=2020, labels=True).reset_index()\n",
        "df = wb.data.DataFrame(indicators, time=2020, labels=True).reset_index()\n",
        "df = df[['economy', *indicators.keys()]].dropna()\n",
        "df = df.rename(columns=indicators)\n",
        "df.head()\n",
        "\n"
      ]
    },
    {
      "cell_type": "markdown",
      "metadata": {
        "id": "dIgO1dH1se-h"
      },
      "source": [
        "## Correlation Analysis\n",
        "\n",
        "**Correlation analysis** enables us to understand the link between various features in our dataset.  \n",
        " It indicates whether features move jointly (positively or negatively) or independently.  \n",
        " This is significant for our classification problem because strongly correlated variables may be repetitive, whereas uncorrelated features frequently provide unique, meaningful information to the models.\n",
        "\n",
        "\n"
      ]
    },
    {
      "cell_type": "code",
      "execution_count": 3,
      "metadata": {
        "colab": {
          "base_uri": "https://localhost:8080/",
          "height": 699
        },
        "id": "8LGhKaKWslZy",
        "outputId": "568cd199-867f-481a-d310-fb740dbc27a3"
      },
      "outputs": [
        {
          "ename": "NameError",
          "evalue": "name 'X_train' is not defined",
          "output_type": "error",
          "traceback": [
            "\u001b[1;31m---------------------------------------------------------------------------\u001b[0m",
            "\u001b[1;31mNameError\u001b[0m                                 Traceback (most recent call last)",
            "Cell \u001b[1;32mIn[3], line 4\u001b[0m\n\u001b[0;32m      1\u001b[0m \u001b[38;5;28;01mimport\u001b[39;00m \u001b[38;5;21;01mnumpy\u001b[39;00m \u001b[38;5;28;01mas\u001b[39;00m \u001b[38;5;21;01mnp\u001b[39;00m\n\u001b[0;32m      3\u001b[0m \u001b[38;5;66;03m# Calculate the correlation matrix using NumPy\u001b[39;00m\n\u001b[1;32m----> 4\u001b[0m corr_matrix \u001b[38;5;241m=\u001b[39m np\u001b[38;5;241m.\u001b[39mcorrcoef(\u001b[43mX_train\u001b[49m, rowvar\u001b[38;5;241m=\u001b[39m\u001b[38;5;28;01mFalse\u001b[39;00m)\n\u001b[0;32m      6\u001b[0m \u001b[38;5;66;03m# Plot the correlation heatmap\u001b[39;00m\n\u001b[0;32m      7\u001b[0m plt\u001b[38;5;241m.\u001b[39mfigure(figsize\u001b[38;5;241m=\u001b[39m(\u001b[38;5;241m10\u001b[39m, \u001b[38;5;241m8\u001b[39m))\n",
            "\u001b[1;31mNameError\u001b[0m: name 'X_train' is not defined"
          ]
        }
      ],
      "source": [
        "import numpy as np\n",
        "\n",
        "# Calculate the correlation matrix using NumPy\n",
        "corr_matrix = np.corrcoef(X_train, rowvar=False)\n",
        "\n",
        "# Plot the correlation heatmap\n",
        "plt.figure(figsize=(10, 8))\n",
        "sns.heatmap(corr_matrix, annot=True, fmt='.2f', cmap='coolwarm', linewidths=0.5)\n",
        "plt.title('Correlation Heatmap of Features')\n",
        "plt.show()\n",
        "\n"
      ]
    },
    {
      "cell_type": "markdown",
      "metadata": {
        "id": "oiPWQqm0tRoZ"
      },
      "source": [
        "### What The Heatmap Image Shows;\n",
        "\n",
        " This heatmap illustrates how the features in our dataset are related to one another.  The numbers in the boxes represent the correlation values:\n",
        "\n",
        " 1.00 indicates that the feature is perfectly associated with itself (always true).\n",
        "\n",
        " 0.00 indicates no link between the features.\n",
        "\n",
        " 0.56 indicates a moderately favorable association, meaning that when one increases, so does the other.\n",
        "\n",
        " In this case:\n",
        "\n",
        " Feature 1 and Feature 2 have a moderate correlation (0.56).\n",
        "\n",
        " The other characteristics are not closely related to one another.\n"
      ]
    },
    {
      "cell_type": "markdown",
      "metadata": {
        "id": "n-y2Qm0PwJch"
      },
      "source": [
        "### Why Does This Matter for Our Machine Learning Models?\n",
        "\n",
        " These features are used to train machine learning models that predict a target class (e.g., nation category, income group).\n",
        "\n",
        " Most traits are not significantly connected, thus each one provides distinct information.\n",
        "\n",
        " This benefits our models, particularly Logistic Regression, which performs best when characteristics aren't too similar.\n",
        "\n",
        " It also helps models like KNN and Random Forest minimize signal duplication.\n",
        "\n",
        " In short, the features appear to be suitable for training.  There's no need to remove or mix any of them!"
      ]
    },
    {
      "cell_type": "markdown",
      "metadata": {
        "id": "jvEYqrF8L2tJ"
      },
      "source": [
        "## Feature Scaling\n",
        "\n",
        "A binary target variable low_mortality is created, where countries with infant mortality rates below 20 are labeled as 1 (low).\n",
        "Then, we select key features and scale them using StandardScaler to ensure all values are on a similar scale for model training."
      ]
    },
    {
      "cell_type": "code",
      "execution_count": 8,
      "metadata": {
        "id": "r2uktKY2L1im"
      },
      "outputs": [],
      "source": [
        "# Feature Scaling and preapration\n",
        "\n",
        "df['low_mortality'] = df['Infant Mortality Rate'].apply(lambda x: 1 if x < 20 else 0)\n",
        "\n",
        "X = df[['Primary School Enrollment (%)', 'Health Expenditure (% of GDP)', 'GDP per Capita']]\n",
        "y = df['low_mortality']\n",
        "\n",
        "scaler = StandardScaler()\n",
        "X_scaled = scaler.fit_transform(X)\n"
      ]
    },
    {
      "cell_type": "markdown",
      "metadata": {
        "id": "GMBIVDBzL_Z9"
      },
      "source": [
        "## **Machine Learning Models from ml_model.py package**\n",
        "\n",
        "The three machine learning models from the'my_model.py' file are run and trained on the dataset. An evaluation approach is then used to examine the performance of each model."
      ]
    },
    {
      "cell_type": "markdown",
      "metadata": {
        "id": "Zl3t6Nwx1V4S"
      },
      "source": [
        "## Logistic Regression\n",
        "\n",
        "Logistic regression is a statistical method used to perform binary classification tasks.  It calculates the probability that a given input belongs to a specific class.  \n",
        "\n",
        "This code creates and trains a custom logistic regression model on the training data ('X_train' and 'y_train').  Predictions are created using the test data ('X_test'), and their accuracy is calculated.  The accuracy score is printed, and the model is assessed with the 'evaluate' method, which yields additional specific performance metrics for each class.\n"
      ]
    },
    {
      "cell_type": "code",
      "execution_count": 36,
      "metadata": {
        "colab": {
          "base_uri": "https://localhost:8080/",
          "height": 680
        },
        "collapsed": true,
        "id": "1tV1bm5Wx0fZ",
        "outputId": "c4c9e556-76da-4680-f7e7-a385d3dfb45a"
      },
      "outputs": [
        {
          "name": "stdout",
          "output_type": "stream",
          "text": [
            "Logistic Regression Accuracy: 0.7317\n",
            "\n",
            "Logistic Regression Classification Report\n",
            "              precision    recall  f1-score   support\n",
            "\n",
            "     Class 0       0.82      0.50      0.62        18\n",
            "     Class 1       0.70      0.91      0.79        23\n",
            "\n",
            "    accuracy                           0.73        41\n",
            "   macro avg       0.76      0.71      0.71        41\n",
            "weighted avg       0.75      0.73      0.72        41\n",
            "\n"
          ]
        },
        {
          "data": {
            "image/png": "[encoded data removed]",
            "text/plain": [
              "<Figure size 640x480 with 2 Axes>"
            ]
          },
          "metadata": {},
          "output_type": "display_data"
        }
      ],
      "source": [
        "# Initialize model\n",
        "logreg = CustomLogisticRegression()\n",
        "\n",
        "# Train model\n",
        "logreg.fit(X_train, y_train)\n",
        "\n",
        "# Make predictions\n",
        "logreg_preds = logreg.predict(X_test)\n",
        "\n",
        "# Check accuracy of predictions\n",
        "logreg_accuracy = accuracy_score(y_test, logreg_preds)\n",
        "\n",
        "# Print the accuracy for each model\n",
        "print(f\"Logistic Regression Accuracy: {logreg_accuracy:.4f}\")\n",
        "\n",
        "# Evaluation - Directly using the evaluate method for model\n",
        "logreg.evaluate(y_test, logreg_preds, class_names=[\"Class 0\", \"Class 1\"])\n",
        "\n"
      ]
    },
    {
      "cell_type": "markdown",
      "metadata": {
        "id": "QOzIXEJh53mX"
      },
      "source": [
        "### Accuracy Results:\n",
        "  At **0.73**, the model correctly identified the income category (low or high) 73% of the time.  This is a generic measure of the model's performance, suggesting that the model correctly predicted 30 out of 41 total cases.\n",
        "\n",
        "\n",
        " ### Confusion Matrix Explanation:\n",
        "  This matrix provides a detailed breakdown of the model's predictions.  True Negatives (9) represent successfully anticipated low-income (Class 0) situations.  False Positives (9) are instances in which the model predicted a high income (Class 1) when it was actually low.  False Negatives (2) are occasions in which the model anticipated low income (Class 0) rather than high income (Class 1).  True Positives (21) are examples of great income that were forecast accurately.\n",
        "\n",
        "### Implications for the ML Task:\n",
        "The model excels at predicting high income (Class 1) with 91% recall, but struggles with low income (Class 0), with just 50% recall.  The accuracy of 73% indicates good overall performance, although the model misses many low-income cases.  This shows that more progress can be made, particularly in Class 0 prediction.\n"
      ]
    },
    {
      "cell_type": "markdown",
      "metadata": {
        "id": "F5Yp6GBVyoSJ"
      },
      "source": [
        "## K-Nearest Neighbors (KNN)\n",
        "\n",
        "K-Nearest Neighbors (KNN) is a basic machine learning technique used in classification and regression.  It predicts the class of a new data point based on the 'k' closest points in the training dataset.  The forecast is determined by the predominant class of these neighbors.  KNN is non-parametric, which means it does not make assumptions about the underlying data distribution.\n",
        "\n",
        "This code initializes a custom KNN classifier, trains it using the training data (X_train, y_train), and then uses it to predict the income group for the test data (X_test). It calculates the prediction accuracy by comparing the predictions (knn_preds) with the actual labels (y_test). Finally, it prints the accuracy and calls the evaluate method to display detailed performance metrics like precision, recall, and F1-score for both income classes."
      ]
    },
    {
      "cell_type": "code",
      "execution_count": 37,
      "metadata": {
        "colab": {
          "base_uri": "https://localhost:8080/",
          "height": 680
        },
        "id": "LmwYpd1QynSp",
        "outputId": "3965693d-6e40-4d85-90fd-ff57857f08a5"
      },
      "outputs": [
        {
          "name": "stdout",
          "output_type": "stream",
          "text": [
            "KNN Classifier Accuracy: 0.6585\n",
            "\n",
            "KNN Classifier Report\n",
            "              precision    recall  f1-score   support\n",
            "\n",
            "     Class 0       0.70      0.39      0.50        18\n",
            "     Class 1       0.65      0.87      0.74        23\n",
            "\n",
            "    accuracy                           0.66        41\n",
            "   macro avg       0.67      0.63      0.62        41\n",
            "weighted avg       0.67      0.66      0.64        41\n",
            "\n"
          ]
        },
        {
          "data": {
            "image/png": "[encoded data removed]",
            "text/plain": [
              "<Figure size 640x480 with 2 Axes>"
            ]
          },
          "metadata": {},
          "output_type": "display_data"
        }
      ],
      "source": [
        "# Initialize model\n",
        "knn = CustomKNNClassifier()\n",
        "\n",
        "# Train model\n",
        "knn.fit(X_train, y_train)\n",
        "\n",
        "# Make predictions\n",
        "knn_preds = knn.predict(X_test)\n",
        "\n",
        "# Check accuracy of predictions\n",
        "knn_accuracy = accuracy_score(y_test, knn_preds)\n",
        "\n",
        "# Print the accuracy for each model\n",
        "print(f\"KNN Classifier Accuracy: {knn_accuracy:.4f}\")\n",
        "\n",
        "# Evaluation - Directly using the evaluate method for model\n",
        "knn.evaluate(y_test, knn_preds, class_names=[\"Class 0\", \"Class 1\"])\n",
        "\n",
        "\n",
        "\n"
      ]
    },
    {
      "cell_type": "markdown",
      "metadata": {
        "id": "EUgJNhcV7vro"
      },
      "source": [
        "### Accuracy Results:\n",
        "The accuracy of 0.6585 indicates that the KNN model accurately identified the income group almost 66% of the time.  Out of 41 predictions, it got 27 correct and 14 incorrect.  This offers us a sense of the model's overall performance.\n",
        "\n",
        "### Confusion Matrix:\n",
        " The confusion matrix explains how the model predicts results.  True Negatives (7) are low-income (Class 0) cases that were correctly predicted.  False Positives (11) are low-income cases that are wrongly classified as high-income.  False Negatives (3) are occasions where high income is incorrectly predicted as low income.  True Positives (20) are high-income cases that were accurately anticipated.\n",
        "\n",
        "### Implications for the ML Task:\n",
        "The KNN model accurately identifies high-income persons (Class 1), with a recall of 87%.  However, it performs poorly with low-income forecasts (Class 0), catching only 39% of them.  The accuracy (66%) is acceptable but somewhat lower than that of the logistic regression model, and the primary issue is the absence of numerous low-income predictions.  This shows that KNN may not be the ideal option if Class 0 is particularly crucial in our task.\n"
      ]
    },
    {
      "cell_type": "markdown",
      "metadata": {
        "id": "ytj_G-GnzwGI"
      },
      "source": [
        "## Random Forest\n",
        "\n",
        "Random Forest is an ensemble machine learning algorithm that builds multiple decision trees and combines their outputs to make a final prediction. Each tree is trained on a random subset of the data and features, which helps reduce overfitting and improves overall accuracy. It's powerful, works well with both classification and regression tasks, and is known for its high performance even with minimal tuning.\n",
        "\n",
        "This code creates a custom Random Forest classifier, trains it on the training data (X_train, y_train), and then applies the model to predict income group labels on the test data (X_test).  It determines the model's accuracy by comparing predicted values (rf_preds) to actual test labels (y_test).  The accuracy is printed, and the evaluate technique is used to show detailed performance metrics such as precision, recall, and F1-score for both income groups.\n"
      ]
    },
    {
      "cell_type": "code",
      "execution_count": 38,
      "metadata": {
        "colab": {
          "base_uri": "https://localhost:8080/",
          "height": 680
        },
        "id": "RyrxKPxjzuzo",
        "outputId": "062a52b5-5aa5-4ded-9544-fdd9528603f0"
      },
      "outputs": [
        {
          "name": "stdout",
          "output_type": "stream",
          "text": [
            "Random Forest Accuracy: 0.8537\n",
            "\n",
            "Random Forest Classifier Report\n",
            "              precision    recall  f1-score   support\n",
            "\n",
            "     Class 0       0.93      0.72      0.81        18\n",
            "     Class 1       0.81      0.96      0.88        23\n",
            "\n",
            "    accuracy                           0.85        41\n",
            "   macro avg       0.87      0.84      0.85        41\n",
            "weighted avg       0.86      0.85      0.85        41\n",
            "\n"
          ]
        },
        {
          "data": {
            "image/png": "[encoded data removed]",
            "text/plain": [
              "<Figure size 640x480 with 2 Axes>"
            ]
          },
          "metadata": {},
          "output_type": "display_data"
        }
      ],
      "source": [
        "# Initialize model\n",
        "rf = CustomRandomForestClassifier()\n",
        "\n",
        "# Train model\n",
        "rf.fit(X_train, y_train)\n",
        "\n",
        "# Make predictions\n",
        "rf_preds = rf.predict(X_test)\n",
        "\n",
        "# Check accuracy of predictions\n",
        "rf_accuracy = accuracy_score(y_test, rf_preds)\n",
        "\n",
        "# Print the accuracy for each model\n",
        "print(f\"Random Forest Accuracy: {rf_accuracy:.4f}\")\n",
        "\n",
        "# Evaluation - Directly using the evaluate method for model\n",
        "rf.evaluate(y_test, rf_preds, class_names=[\"Class 0\", \"Class 1\"])\n",
        "\n"
      ]
    },
    {
      "cell_type": "markdown",
      "metadata": {
        "id": "QTFGSDUF9MS_"
      },
      "source": [
        "### Accuracy Results:\n",
        "The Random Forest model correctly identified the income group 85% of the time (accuracy = 0.8537).  Out of 41 predictions, 35 were correct and only six were incorrect.  This demonstrates great overall model performance.\n",
        "\n",
        "### Confusion Matrix:\n",
        " The confusion matrix is a breakdown of prediction results.  True Positives (13) are low-income (Class 0) cases that were successfully anticipated.  False Positives (1) are occasions where high income is incorrectly anticipated as low income.  False Negatives (5) are low-income cases misclassified as high-income.  True Negatives (22) are situations of high income (Class 1) that were correctly anticipated.\n",
        "\n",
        "### Implications for the ML Task:\n",
        "  The Random Forest model is effective for both classes.  It has a high recall (96%) for high-income forecasts (Class 1) while enhancing memory for low-income (Class 0) predictions by 72%.  With the best accuracy (85%) of any model examined, Random Forest appears to be the most balanced and dependable solution for this income group categorization assignment.\n",
        "\n"
      ]
    },
    {
      "cell_type": "markdown",
      "metadata": {
        "id": "yCH4cFoR0SMY"
      },
      "source": [
        "##  Conclusion\n",
        "\n",
        "- We created a custom ML package containing Logistic Regression, KNN, and Random Forest classifiers.\n",
        "- We used WBGAPI to retrieve real-world data from the World Bank.\n",
        "- Our package accurately classified countries by infant mortality based on socio-economic indicators.\n",
        "- Among all models tested, **Random Forest** performed the best with the highest accuracy (85%) and strong balance between both income classes. **Logistic Regression** was decent (73%) but struggled with low-income recall, while **KNN** had the lowest accuracy (66%) and also missed many low-income cases. Overall, **Random Forest is the most reliable model for this task.**\n",
        "\n",
        "This notebook fulfills the requirement of demonstrating practical use of the package."
      ]
    }
  ],
  "metadata": {
    "colab": {
      "provenance": []
    },
    "kernelspec": {
      "display_name": "Python 3",
      "name": "python3"
    },
    "language_info": {
      "codemirror_mode": {
        "name": "ipython",
        "version": 3
      },
      "file_extension": ".py",
      "mimetype": "text/x-python",
      "name": "python",
      "nbconvert_exporter": "python",
      "pygments_lexer": "ipython3",
      "version": "3.10.11"
    }
  },
  "nbformat": 4,
  "nbformat_minor": 0
}
